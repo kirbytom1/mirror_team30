{
 "cells": [
  {
   "cell_type": "code",
   "execution_count": null,
   "id": "1d505e89",
   "metadata": {},
   "outputs": [],
   "source": [
    "from werkzeug.wrappers import Request, Response\n",
    "from flask import Flask, render_template, url_for, redirect, request"
   ]
  },
  {
   "cell_type": "code",
   "execution_count": null,
   "id": "6882b5f2",
   "metadata": {},
   "outputs": [],
   "source": [
    "app = Flask(__name__)"
   ]
  },
  {
   "cell_type": "code",
   "execution_count": null,
   "id": "3310e192",
   "metadata": {},
   "outputs": [],
   "source": [
    "@app.route('/')\n",
    "def index():\n",
    "    return render_template('index.html')"
   ]
  },
  {
   "cell_type": "code",
   "execution_count": null,
   "id": "d52ec4d0",
   "metadata": {},
   "outputs": [],
   "source": [
    "@app.route('/learn/')\n",
    "def learn():\n",
    "    return render_template('learn.html')"
   ]
  },
  {
   "cell_type": "code",
   "execution_count": null,
   "id": "bbda8972",
   "metadata": {},
   "outputs": [],
   "source": [
    "@app.route('/measure/')\n",
    "def measure():\n",
    "    return render_template('measure.html')"
   ]
  },
  {
   "cell_type": "code",
   "execution_count": null,
   "id": "427eec5e",
   "metadata": {},
   "outputs": [],
   "source": [
    "@app.route('/measure/track', methods = ['POST'])\n",
    "def measure_track():\n",
    "    if request.method == 'POST':\n",
    "        error = False\n",
    "\n",
    "        URL = request.form['URL']\n",
    "\n",
    "        try:\n",
    "            # Do evaluation here\n",
    "\n",
    "            # And save datas in files?\n",
    "            return redirect(url_for('measure_result'))\n",
    "        except:\n",
    "            error = True\n",
    "            return render_template('measure.html',error=error)"
   ]
  },
  {
   "cell_type": "code",
   "execution_count": null,
   "id": "ccf928bd",
   "metadata": {},
   "outputs": [],
   "source": [
    "@app.route('/measure_result')\n",
    "def measure_result():\n",
    "    # Extract datas from the files\n",
    "    return render_template('measure_result.html')"
   ]
  },
  {
   "cell_type": "code",
   "execution_count": null,
   "id": "c4f5878d",
   "metadata": {},
   "outputs": [],
   "source": [
    "if __name__ == '__main__':\n",
    "    from werkzeug.serving import run_simple\n",
    "    run_simple('localhost', 9000, app)"
   ]
  }
 ],
 "metadata": {
  "kernelspec": {
   "display_name": "Python 3 (ipykernel)",
   "language": "python",
   "name": "python3"
  },
  "language_info": {
   "codemirror_mode": {
    "name": "ipython",
    "version": 3
   },
   "file_extension": ".py",
   "mimetype": "text/x-python",
   "name": "python",
   "nbconvert_exporter": "python",
   "pygments_lexer": "ipython3",
   "version": "3.9.7"
  }
 },
 "nbformat": 4,
 "nbformat_minor": 5
}
