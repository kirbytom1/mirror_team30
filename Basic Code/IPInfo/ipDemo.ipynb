{
 "cells": [
  {
   "cell_type": "code",
   "execution_count": 6,
   "metadata": {},
   "outputs": [],
   "source": [
    "import ipinfo\n",
    "import socket"
   ]
  },
  {
   "cell_type": "code",
   "execution_count": 8,
   "metadata": {},
   "outputs": [
    {
     "data": {
      "text/plain": [
       "{'ip': '185.18.139.133',\n",
       " 'city': 'London',\n",
       " 'region': 'England',\n",
       " 'country': 'GB',\n",
       " 'loc': '51.5085,-0.1257',\n",
       " 'org': 'AS60885 Zengenti Ltd.',\n",
       " 'postal': 'EC1A',\n",
       " 'timezone': 'Europe/London',\n",
       " 'country_name': 'United Kingdom',\n",
       " 'latitude': '51.5085',\n",
       " 'longitude': '-0.1257'}"
      ]
     },
     "execution_count": 8,
     "metadata": {},
     "output_type": "execute_result"
    }
   ],
   "source": [
    "access_token = '7988f883b8fd54'\n",
    "handler = ipinfo.getHandler(access_token)\n",
    "hostname = 'ntu.ac.uk'\n",
    "ip_address = socket.gethostbyname(hostname)\n",
    "details = handler.getDetails(ip_address)\n",
    "details.all\n"
   ]
  }
 ],
 "metadata": {
  "interpreter": {
   "hash": "c211abd71d2689f59c2fcf7ad562f05ca12fcb73c022f1e6ef4eacfdfa7bfc8e"
  },
  "kernelspec": {
   "display_name": "Python 3.8.10 64-bit (windows store)",
   "language": "python",
   "name": "python3"
  },
  "language_info": {
   "codemirror_mode": {
    "name": "ipython",
    "version": 3
   },
   "file_extension": ".py",
   "mimetype": "text/x-python",
   "name": "python",
   "nbconvert_exporter": "python",
   "pygments_lexer": "ipython3",
   "version": "3.8.10"
  },
  "orig_nbformat": 4
 },
 "nbformat": 4,
 "nbformat_minor": 2
}
